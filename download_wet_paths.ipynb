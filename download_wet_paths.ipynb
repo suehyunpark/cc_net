{
 "cells": [
  {
   "cell_type": "code",
   "execution_count": 2,
   "metadata": {},
   "outputs": [],
   "source": [
    "import os\n",
    "import re"
   ]
  },
  {
   "cell_type": "code",
   "execution_count": 16,
   "metadata": {},
   "outputs": [],
   "source": [
    "path = '/mnt/nfs/miyoung/suehyun/cc_wet/2022-49/logs'\n",
    "URL =r\"https:\\/\\/data\\.commoncrawl\\.org\\/crawl-data\\/CC-MAIN-.*\\/segments\\/\\d+\\.\\d+\\/wet\\/CC-MAIN-\\d+-\\d+-\\d+\\.warc\\.wet\\.gz\"\n",
    "downloaded = set()"
   ]
  },
  {
   "cell_type": "code",
   "execution_count": 18,
   "metadata": {},
   "outputs": [
    {
     "ename": "ModuleNotFoundError",
     "evalue": "No module named 'tqdm'",
     "output_type": "error",
     "traceback": [
      "\u001b[0;31m---------------------------------------------------------------------------\u001b[0m",
      "\u001b[0;31mModuleNotFoundError\u001b[0m                       Traceback (most recent call last)",
      "Cell \u001b[0;32mIn[18], line 1\u001b[0m\n\u001b[0;32m----> 1\u001b[0m \u001b[39mimport\u001b[39;00m \u001b[39mtqdm\u001b[39;00m\n",
      "\u001b[0;31mModuleNotFoundError\u001b[0m: No module named 'tqdm'"
     ]
    }
   ],
   "source": [
    "import tqdm"
   ]
  },
  {
   "cell_type": "code",
   "execution_count": 17,
   "metadata": {},
   "outputs": [
    {
     "ename": "AttributeError",
     "evalue": "'NoneType' object has no attribute 'group'",
     "output_type": "error",
     "traceback": [
      "\u001b[0;31m---------------------------------------------------------------------------\u001b[0m",
      "\u001b[0;31mAttributeError\u001b[0m                            Traceback (most recent call last)",
      "Cell \u001b[0;32mIn[17], line 7\u001b[0m\n\u001b[1;32m      5\u001b[0m \u001b[39mfor\u001b[39;00m line \u001b[39min\u001b[39;00m f:\n\u001b[1;32m      6\u001b[0m     \u001b[39mif\u001b[39;00m \u001b[39m'\u001b[39m\u001b[39mDownloaded\u001b[39m\u001b[39m'\u001b[39m \u001b[39min\u001b[39;00m line:\n\u001b[0;32m----> 7\u001b[0m         url \u001b[39m=\u001b[39m re\u001b[39m.\u001b[39;49msearch(URL, line)\u001b[39m.\u001b[39;49mgroup()\n\u001b[1;32m      8\u001b[0m         downloaded\u001b[39m.\u001b[39madd(url)\n",
      "\u001b[0;31mAttributeError\u001b[0m: 'NoneType' object has no attribute 'group'"
     ]
    }
   ],
   "source": [
    "from multiprocessing import Pool\n",
    "\n",
    "for root, dirs, files in os.walk(path):\n",
    "    for i, file in enumerate(files):\n",
    "        if file.endswith('.err'):\n",
    "            with open(os.path.join(root, file), 'r') as f:\n",
    "                for line in f:\n",
    "                    if 'Downloaded' in line:\n",
    "                        match = re.search(URL, line)\n",
    "                        if match:\n",
    "                            downloaded.add(match.group())\n",
    "        print(f\"After file {i}: {len(downloaded)}\")\n",
    "                            "
   ]
  },
  {
   "cell_type": "code",
   "execution_count": 3,
   "metadata": {},
   "outputs": [],
   "source": [
    "path = '/mnt/nfs/miyoung/suehyun/cc_wet/2022-49/logs'\n",
    "URL_PATTERN = r\"https:\\/\\/data\\.commoncrawl\\.org\\/crawl-data\\/CC-MAIN-.*\\/segments\\/\\d+\\.\\d+\\/wet\\/CC-MAIN-\\d+-\\d+-\\d+\\.warc\\.wet\\.gz\"\n",
    "downloaded = set()\n",
    "\n",
    "file_paths = []\n",
    "for root, dirs, files in os.walk(path):\n",
    "    for file in sorted(files):\n",
    "        if file.endswith('.err'):\n",
    "            file_paths.append(os.path.join(root, file))\n",
    "            "
   ]
  },
  {
   "cell_type": "code",
   "execution_count": 5,
   "metadata": {},
   "outputs": [
    {
     "name": "stdout",
     "output_type": "stream",
     "text": [
      "110\n"
     ]
    }
   ],
   "source": [
    "file_paths = [path + '/1554_0_log.err', path + '/1540_0_log.err']\n",
    "\n",
    "for file_path in file_paths:\n",
    "    with open(file_path, 'r') as f:\n",
    "        for line in f:\n",
    "            if 'Downloaded' in line:\n",
    "                url = re.search(URL_PATTERN, line)\n",
    "                if url:\n",
    "                    downloaded.add(url.group())\n",
    "        print(len(downloaded))    "
   ]
  },
  {
   "cell_type": "code",
   "execution_count": null,
   "metadata": {},
   "outputs": [],
   "source": []
  }
 ],
 "metadata": {
  "kernelspec": {
   "display_name": "Python 3",
   "language": "python",
   "name": "python3"
  },
  "language_info": {
   "codemirror_mode": {
    "name": "ipython",
    "version": 3
   },
   "file_extension": ".py",
   "mimetype": "text/x-python",
   "name": "python",
   "nbconvert_exporter": "python",
   "pygments_lexer": "ipython3",
   "version": "3.8.16"
  },
  "orig_nbformat": 4
 },
 "nbformat": 4,
 "nbformat_minor": 2
}
